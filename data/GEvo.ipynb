{
 "metadata": {
  "name": ""
 },
 "nbformat": 3,
 "nbformat_minor": 0,
 "worksheets": [
  {
   "cells": [
    {
     "cell_type": "code",
     "collapsed": false,
     "input": [
      "%pylab inline"
     ],
     "language": "python",
     "metadata": {},
     "outputs": [
      {
       "output_type": "stream",
       "stream": "stdout",
       "text": [
        "Populating the interactive namespace from numpy and matplotlib\n"
       ]
      }
     ],
     "prompt_number": 3
    },
    {
     "cell_type": "code",
     "collapsed": false,
     "input": [
      "from pandas import read_csv\n",
      "import pandas\n",
      "import glob\n",
      "from collections import defaultdict\n",
      "import seaborn as sns\n",
      "import pandas as pd\n",
      "import numpy as np"
     ],
     "language": "python",
     "metadata": {},
     "outputs": [],
     "prompt_number": 4
    },
    {
     "cell_type": "heading",
     "level": 1,
     "metadata": {},
     "source": [
      "Evolvability Analysis"
     ]
    },
    {
     "cell_type": "code",
     "collapsed": false,
     "input": [
      "#treatment_pre={\"fragile-nomut/\":\"Maze (No SA)\",\"fragile-mut/\":\"Maze (SA)\"}\n",
      "#treatment_pre={\"nomut-3t/\":\"Maze (No SA 3t)\",\"mut-3t/\":\"Maze (SA 3t)\"} #\"mut-1t/\":\"Maze (SA 1t)\",\"nomut-1t/\":\"Maze (No SA 1t)\",,\n",
      "#treatment_post={\"control\":\" Ctrl\",\"e2\":\" Extnct\"}\n",
      "\n",
      "treatment_pre={\"r/gsa\":\"\"} #,\"r/na\":\"NA\"} #\"mut-1t/\":\"Maze (SA 1t)\",\"nomut-1t/\":\"Maze (No SA 1t)\",,\n",
      "treatment_post={\"cnti1\":\"Control\",\"exti1\":\"Extinction 300\",\"exti2\":\"Extinction 600\",\"exti3\":\"Extinction 900\",\"extr1\":\"Extinction Random\"}\n",
      "#treatment_post_d={\"cnti1\":\" Ctrl\",\"exti1\":\" Ext1\",\"exti2\":\" Ext2\",\"exti3\":\" Ext3\"}\n",
      "treatment_post_d=treatment_post.keys()\n",
      "treatment_post_d.sort()\n",
      "treatments=[]\n",
      "\n",
      "for a in treatment_pre:\n",
      "    for b in treatment_post_d:\n",
      "        treatments.append((a,b))\n",
      "\n",
      "\n"
     ],
     "language": "python",
     "metadata": {},
     "outputs": [],
     "prompt_number": 91
    },
    {
     "cell_type": "code",
     "collapsed": false,
     "input": [
      "def compile_treatment(treat):\n",
      "    #search=\"%sout-%s*.evo\"% treat\n",
      "    search=\"%s%s*.evo\"% treat\n",
      "    print search\n",
      "    files=glob.glob(search)\n",
      "    \n",
      "    max_dict=defaultdict(list)\n",
      "    maxx_dict=defaultdict(list)\n",
      "    min_dict=defaultdict(list)\n",
      "    mean_dict=defaultdict(list)\n",
      "    samps=defaultdict(list)\n",
      "    for fn in files:\n",
      "        fsamps=defaultdict(list)\n",
      "        data=read_csv(fn,header=None,sep=' ',names=[\"gen\",\"eval\",\"evo\"])\n",
      "        samples = data[\"gen\"].unique()\n",
      "        \n",
      "        if(samples[-1]!=5000):\n",
      "             continue\n",
      "                \n",
      "        print samples\n",
      "        for x in samples:\n",
      "          evo_samp=data[data[\"gen\"]==x][\"evo\"]\n",
      "          #print x,evo_samp\n",
      "          #print evo_samp.shape\n",
      "          samps[x]+=list(evo_samp)\n",
      "          fsamps[fn]+=list(evo_samp)\n",
      "          maxx_dict[x].append(max(fsamps[fn]))\n",
      "          max_dict[x].append(evo_samp.max())\n",
      "          min_dict[x].append(evo_samp.min())\n",
      "          mean_dict[x].append(evo_samp.median())\n",
      "\n",
      "    dict_store = (max_dict.copy(),min_dict.copy(),mean_dict.copy())\n",
      "    \n",
      "    keys= max_dict.keys()\n",
      "    keys.sort()\n",
      "    for x in keys:\n",
      "     max_dict[x]=sum(max_dict[x])/float(len(max_dict[x]))\n",
      "     maxx_dict[x]=sum(maxx_dict[x])/float(len(maxx_dict[x]))\n",
      "     min_dict[x]=sum(min_dict[x])/float(len(min_dict[x]))\n",
      "     mean_dict[x]=sum(mean_dict[x])/float(len(mean_dict[x]))\n",
      "    x=max_dict.keys()\n",
      "    x.sort()\n",
      "    \n",
      "    samps_arr=np.zeros((len(x),len(samps[x[1]])))\n",
      "    \n",
      "    while len(samps[0])<len(samps[x[1]]):\n",
      "        print len(samps[0]),len(samps[x[1]])\n",
      "        samps[0]+=samps[0]\n",
      "    samps[0]=samps[0][:len(samps[x[1]])]\n",
      "    \n",
      "    #print [len(samps[x[k]]) for k in range(len(x))]\n",
      "    for k in range(len(x)):\n",
      "     samps_arr[k,:] = np.array(samps[x[k]])\n",
      "    means=np.array([mean_dict[k] for k in x])\n",
      "    mins=np.array([min_dict[k] for k in x])\n",
      "    maxs=np.array([max_dict[k] for k in x])\n",
      "    return np.array(x),means,mins,maxs,samps_arr,dict_store"
     ],
     "language": "python",
     "metadata": {},
     "outputs": [],
     "prompt_number": 92
    },
    {
     "cell_type": "code",
     "collapsed": false,
     "input": [
      "k=0\n",
      "samps_tot=[]\n",
      "final_samps=[]\n",
      "\n",
      "final_means=[]\n",
      "final_mins=[]\n",
      "final_maxs=[]\n",
      "\n",
      "store={}\n",
      "samp_store={}\n",
      "\n",
      "title(\"Evolvability over time\")\n",
      "\n",
      "compiled_results=[]\n",
      "\n",
      "for treat in treatments:\n",
      "    print treat\n",
      "    x,means,low,high,samps,store[treat]=compile_treatment(treat)\n",
      "    compiled_results.append((x,means,high))\n",
      "\n",
      "    #errorbar(x,means,yerr=numpy.vstack([low,high]),label=treat[0]+treat[1])\n",
      "    samps=samps.transpose()\n",
      "    final_samps.append(samps[:,-1])\n",
      "    samp_store[treat]=final_samps[-1]\n",
      "    samps_tot.append(samps)\n",
      "    k+=1\n",
      "    t=treat\n",
      "    label=treatment_pre[t[0]]+treatment_post[t[1]]\n",
      "    #new_ax.set_title(treatment_pre[t[0]]+treatment_post[t[1]])\n",
      "    #sns.boxplot(samps,ax=new_ax)   \n",
      "    #plot(means,label=label)\n",
      "    #plot(low,label=label)\n",
      "    plot(high,label=label)\n",
      "    #legend()\n",
      "\n",
      "    final_means.append(means[-1])\n",
      "    final_mins.append(low[-1])\n",
      "    final_maxs.append(high[-1])\n",
      "legend()\n",
      "plt.figure()\n",
      "\n",
      "\n",
      "\n",
      "#sns.boxplot(final_samps,names=[treatment_pre[t[0]]+treatment_post[t[1]] for t in treatments])\n",
      "\n",
      "x=range(len(treatments))\n",
      "plot(x,final_means,\"go\",label=\"median\")\n",
      "plot(x,final_mins,\"ro\",label=\"min\")\n",
      "plot(x,final_maxs,\"bo\",label=\"max\")\n",
      "xticks(range(len(treatments)),[treatment_pre[t[0]]+treatment_post[t[1]] for t in treatments])"
     ],
     "language": "python",
     "metadata": {},
     "outputs": [
      {
       "output_type": "stream",
       "stream": "stdout",
       "text": [
        "('r/gsa', 'cnti1')\n",
        "r/gsacnti1*.evo\n",
        "[   0  500 1000 1500 2000 2500 3000 3500 4000 4500 5000]"
       ]
      },
      {
       "output_type": "stream",
       "stream": "stdout",
       "text": [
        "\n",
        "[   0  500 1000 1500 2000 2500 3000 3500 4000 4500 5000]"
       ]
      },
      {
       "output_type": "stream",
       "stream": "stdout",
       "text": [
        "\n",
        "[   0  500 1000 1500 2000 2500 3000 3500 4000 4500 5000]"
       ]
      },
      {
       "output_type": "stream",
       "stream": "stdout",
       "text": [
        "\n",
        "[   0  500 1000 1500 2000 2500 3000 3500 4000 4500 5000]\n",
        "[   0  500 1000 1500 2000 2500 3000 3500 4000 4500 5000]"
       ]
      },
      {
       "output_type": "stream",
       "stream": "stdout",
       "text": [
        "\n",
        "[   0  500 1000 1500 2000 2500 3000 3500 4000 4500 5000]\n",
        "[   0  500 1000 1500 2000 2500 3000 3500 4000 4500 5000]\n",
        "[   0  500 1000 1500 2000 2500 3000 3500 4000 4500 5000]"
       ]
      },
      {
       "output_type": "stream",
       "stream": "stdout",
       "text": [
        "\n",
        "[   0  500 1000 1500 2000 2500 3000 3500 4000 4500 5000]\n",
        "[   0  500 1000 1500 2000 2500 3000 3500 4000 4500 5000]\n",
        "[   0  500 1000 1500 2000 2500 3000 3500 4000 4500 5000]\n",
        "[   0  500 1000 1500 2000 2500 3000 3500 4000 4500 5000]"
       ]
      },
      {
       "output_type": "stream",
       "stream": "stdout",
       "text": [
        "\n",
        "[   0  500 1000 1500 2000 2500 3000 3500 4000 4500 5000]\n",
        "[   0  500 1000 1500 2000 2500 3000 3500 4000 4500 5000]\n",
        "[   0  500 1000 1500 2000 2500 3000 3500 4000 4500 5000]\n",
        "[   0  500 1000 1500 2000 2500 3000 3500 4000 4500 5000]"
       ]
      },
      {
       "output_type": "stream",
       "stream": "stdout",
       "text": [
        "\n",
        "[   0  500 1000 1500 2000 2500 3000 3500 4000 4500 5000]\n",
        "[   0  500 1000 1500 2000 2500 3000 3500 4000 4500 5000]\n",
        "[   0  500 1000 1500 2000 2500 3000 3500 4000 4500 5000]\n",
        "[   0  500 1000 1500 2000 2500 3000 3500 4000 4500 5000]"
       ]
      },
      {
       "output_type": "stream",
       "stream": "stdout",
       "text": [
        "\n",
        "[   0  500 1000 1500 2000 2500 3000 3500 4000 4500 5000]\n",
        "[   0  500 1000 1500 2000 2500 3000 3500 4000 4500 5000]\n",
        "[   0  500 1000 1500 2000 2500 3000 3500 4000 4500 5000]\n",
        "[   0  500 1000 1500 2000 2500 3000 3500 4000 4500 5000]"
       ]
      },
      {
       "output_type": "stream",
       "stream": "stdout",
       "text": [
        "\n",
        "[   0  500 1000 1500 2000 2500 3000 3500 4000 4500 5000]\n",
        "[   0  500 1000 1500 2000 2500 3000 3500 4000 4500 5000]\n",
        "[   0  500 1000 1500 2000 2500 3000 3500 4000 4500 5000]\n",
        "[   0  500 1000 1500 2000 2500 3000 3500 4000 4500 5000]"
       ]
      },
      {
       "output_type": "stream",
       "stream": "stdout",
       "text": [
        "\n",
        "[   0  500 1000 1500 2000 2500 3000 3500 4000 4500 5000]\n",
        "[   0  500 1000 1500 2000 2500 3000 3500 4000 4500 5000]\n",
        "[   0  500 1000 1500 2000 2500 3000 3500 4000 4500 5000]\n",
        "[   0  500 1000 1500 2000 2500 3000 3500 4000 4500 5000]"
       ]
      },
      {
       "output_type": "stream",
       "stream": "stdout",
       "text": [
        "\n",
        "[   0  500 1000 1500 2000 2500 3000 3500 4000 4500 5000]\n",
        "[   0  500 1000 1500 2000 2500 3000 3500 4000 4500 5000]\n",
        "[   0  500 1000 1500 2000 2500 3000 3500 4000 4500 5000]\n",
        "[   0  500 1000 1500 2000 2500 3000 3500 4000 4500 5000]"
       ]
      },
      {
       "output_type": "stream",
       "stream": "stdout",
       "text": [
        "\n",
        "[   0  500 1000 1500 2000 2500 3000 3500 4000 4500 5000]\n",
        "111 9250\n",
        "222 9250\n",
        "444 9250\n",
        "888 9250\n",
        "1776 9250\n",
        "3552 9250\n",
        "7104 9250\n",
        "('r/gsa', 'exti1')"
       ]
      },
      {
       "output_type": "stream",
       "stream": "stdout",
       "text": [
        "\n",
        "r/gsaexti1*.evo\n",
        "[   0  500 1000 1500 2000 2500 3000 3500 4000 4500 5000]\n",
        "[   0  500 1000 1500 2000 2500 3000 3500 4000 4500 5000]\n",
        "[   0  500 1000 1500 2000 2500 3000 3500 4000 4500 5000]"
       ]
      },
      {
       "output_type": "stream",
       "stream": "stdout",
       "text": [
        "\n",
        "[   0  500 1000 1500 2000 2500 3000 3500 4000 4500 5000]\n",
        "[   0  500 1000 1500 2000 2500 3000 3500 4000 4500 5000]"
       ]
      },
      {
       "output_type": "stream",
       "stream": "stdout",
       "text": [
        "\n",
        "[   0  500 1000 1500 2000 2500 3000 3500 4000 4500 5000]\n",
        "[   0  500 1000 1500 2000 2500 3000 3500 4000 4500 5000]\n",
        "[   0  500 1000 1500 2000 2500 3000 3500 4000 4500 5000]"
       ]
      },
      {
       "output_type": "stream",
       "stream": "stdout",
       "text": [
        "\n",
        "[   0  500 1000 1500 2000 2500 3000 3500 4000 4500 5000]\n",
        "[   0  500 1000 1500 2000 2500 3000 3500 4000 4500 5000]\n",
        "[   0  500 1000 1500 2000 2500 3000 3500 4000 4500 5000]\n",
        "[   0  500 1000 1500 2000 2500 3000 3500 4000 4500 5000]"
       ]
      },
      {
       "output_type": "stream",
       "stream": "stdout",
       "text": [
        "\n",
        "[   0  500 1000 1500 2000 2500 3000 3500 4000 4500 5000]\n",
        "[   0  500 1000 1500 2000 2500 3000 3500 4000 4500 5000]\n",
        "[   0  500 1000 1500 2000 2500 3000 3500 4000 4500 5000]"
       ]
      },
      {
       "output_type": "stream",
       "stream": "stdout",
       "text": [
        "\n",
        "[   0  500 1000 1500 2000 2500 3000 3500 4000 4500 5000]\n",
        "[   0  500 1000 1500 2000 2500 3000 3500 4000 4500 5000]\n",
        "[   0  500 1000 1500 2000 2500 3000 3500 4000 4500 5000]\n",
        "[   0  500 1000 1500 2000 2500 3000 3500 4000 4500 5000]\n",
        "[   0  500 1000 1500 2000 2500 3000 3500 4000 4500 5000]"
       ]
      },
      {
       "output_type": "stream",
       "stream": "stdout",
       "text": [
        "\n",
        "[   0  500 1000 1500 2000 2500 3000 3500 4000 4500 5000]\n",
        "[   0  500 1000 1500 2000 2500 3000 3500 4000 4500 5000]\n",
        "[   0  500 1000 1500 2000 2500 3000 3500 4000 4500 5000]\n",
        "[   0  500 1000 1500 2000 2500 3000 3500 4000 4500 5000]"
       ]
      },
      {
       "output_type": "stream",
       "stream": "stdout",
       "text": [
        "\n",
        "[   0  500 1000 1500 2000 2500 3000 3500 4000 4500 5000]\n",
        "[   0  500 1000 1500 2000 2500 3000 3500 4000 4500 5000]\n",
        "[   0  500 1000 1500 2000 2500 3000 3500 4000 4500 5000]\n",
        "[   0  500 1000 1500 2000 2500 3000 3500 4000 4500 5000]"
       ]
      },
      {
       "output_type": "stream",
       "stream": "stdout",
       "text": [
        "\n",
        "[   0  500 1000 1500 2000 2500 3000 3500 4000 4500 5000]\n",
        "[   0  500 1000 1500 2000 2500 3000 3500 4000 4500 5000]\n",
        "90 7500\n",
        "180 7500\n",
        "360 7500\n",
        "720 7500\n",
        "1440 7500\n",
        "2880 7500\n",
        "5760 7500\n",
        "('r/gsa', 'exti2')\n",
        "r/gsaexti2*.evo\n",
        "[   0  500 1000 1500 2000 2500 3000 3500 4000 4500 5000]"
       ]
      },
      {
       "output_type": "stream",
       "stream": "stdout",
       "text": [
        "\n",
        "[   0  500 1000 1500 2000 2500 3000 3500 4000 4500 5000]\n",
        "[   0  500 1000 1500 2000 2500 3000 3500 4000 4500 5000]\n",
        "[   0  500 1000 1500 2000 2500 3000 3500 4000 4500 5000]\n",
        "[   0  500 1000 1500 2000 2500 3000 3500 4000 4500 5000]\n",
        "[   0  500 1000 1500 2000 2500 3000 3500 4000 4500 5000]"
       ]
      },
      {
       "output_type": "stream",
       "stream": "stdout",
       "text": [
        "\n",
        "[   0  500 1000 1500 2000 2500 3000 3500 4000 4500 5000]\n",
        "[   0  500 1000 1500 2000 2500 3000 3500 4000 4500 5000]\n",
        "[   0  500 1000 1500 2000 2500 3000 3500 4000 4500 5000]\n",
        "[   0  500 1000 1500 2000 2500 3000 3500 4000 4500 5000]"
       ]
      },
      {
       "output_type": "stream",
       "stream": "stdout",
       "text": [
        "\n",
        "[   0  500 1000 1500 2000 2500 3000 3500 4000 4500 5000]\n",
        "[   0  500 1000 1500 2000 2500 3000 3500 4000 4500 5000]\n",
        "[   0  500 1000 1500 2000 2500 3000 3500 4000 4500 5000]\n",
        "[   0  500 1000 1500 2000 2500 3000 3500 4000 4500 5000]"
       ]
      },
      {
       "output_type": "stream",
       "stream": "stdout",
       "text": [
        "\n",
        "[   0  500 1000 1500 2000 2500 3000 3500 4000 4500 5000]\n",
        "[   0  500 1000 1500 2000 2500 3000 3500 4000 4500 5000]\n",
        "[   0  500 1000 1500 2000 2500 3000 3500 4000 4500 5000]\n",
        "[   0  500 1000 1500 2000 2500 3000 3500 4000 4500 5000]"
       ]
      },
      {
       "output_type": "stream",
       "stream": "stdout",
       "text": [
        "\n",
        "[   0  500 1000 1500 2000 2500 3000 3500 4000 4500 5000]\n",
        "[   0  500 1000 1500 2000 2500 3000 3500 4000 4500 5000]\n",
        "[   0  500 1000 1500 2000 2500 3000 3500 4000 4500 5000]"
       ]
      },
      {
       "output_type": "stream",
       "stream": "stdout",
       "text": [
        "\n",
        "[   0  500 1000 1500 2000 2500 3000 3500 4000 4500 5000]\n",
        "[   0  500 1000 1500 2000 2500 3000 3500 4000 4500 5000]\n",
        "[   0  500 1000 1500 2000 2500 3000 3500 4000 4500 5000]"
       ]
      },
      {
       "output_type": "stream",
       "stream": "stdout",
       "text": [
        "\n",
        "[   0  500 1000 1500 2000 2500 3000 3500 4000 4500 5000]\n",
        "[   0  500 1000 1500 2000 2500 3000 3500 4000 4500 5000]\n",
        "[   0  500 1000 1500 2000 2500 3000 3500 4000 4500 5000]"
       ]
      },
      {
       "output_type": "stream",
       "stream": "stdout",
       "text": [
        "\n",
        "[   0  500 1000 1500 2000 2500 3000 3500 4000 4500 5000]\n",
        "[   0  500 1000 1500 2000 2500 3000 3500 4000 4500 5000]\n",
        "[   0  500 1000 1500 2000 2500 3000 3500 4000 4500 5000]\n",
        "[   0  500 1000 1500 2000 2500 3000 3500 4000 4500 5000]"
       ]
      },
      {
       "output_type": "stream",
       "stream": "stdout",
       "text": [
        "\n",
        "[   0  500 1000 1500 2000 2500 3000 3500 4000 4500 5000]\n",
        "[   0  500 1000 1500 2000 2500 3000 3500 4000 4500 5000]\n",
        "[   0  500 1000 1500 2000 2500 3000 3500 4000 4500 5000]"
       ]
      },
      {
       "output_type": "stream",
       "stream": "stdout",
       "text": [
        "\n",
        "[   0  500 1000 1500 2000 2500 3000 3500 4000 4500 5000]\n",
        "105 8750\n",
        "210 8750\n",
        "420 8750\n",
        "840 8750\n",
        "1680 8750\n",
        "3360 8750\n",
        "6720 8750\n",
        "('r/gsa', 'exti3')\n",
        "r/gsaexti3*.evo\n",
        "[   0  500 1000 1500 2000 2500 3000 3500 4000 4500 5000]"
       ]
      },
      {
       "output_type": "stream",
       "stream": "stdout",
       "text": [
        "\n",
        "[   0  500 1000 1500 2000 2500 3000 3500 4000 4500 5000]\n",
        "[   0  500 1000 1500 2000 2500 3000 3500 4000 4500 5000]\n",
        "[   0  500 1000 1500 2000 2500 3000 3500 4000 4500 5000]"
       ]
      },
      {
       "output_type": "stream",
       "stream": "stdout",
       "text": [
        "\n",
        "[   0  500 1000 1500 2000 2500 3000 3500 4000 4500 5000]\n",
        "[   0  500 1000 1500 2000 2500 3000 3500 4000 4500 5000]\n",
        "[   0  500 1000 1500 2000 2500 3000 3500 4000 4500 5000]\n",
        "[   0  500 1000 1500 2000 2500 3000 3500 4000 4500 5000]"
       ]
      },
      {
       "output_type": "stream",
       "stream": "stdout",
       "text": [
        "\n",
        "[   0  500 1000 1500 2000 2500 3000 3500 4000 4500 5000]\n",
        "[   0  500 1000 1500 2000 2500 3000 3500 4000 4500 5000]\n",
        "[   0  500 1000 1500 2000 2500 3000 3500 4000 4500 5000]\n",
        "[   0  500 1000 1500 2000 2500 3000 3500 4000 4500 5000]"
       ]
      },
      {
       "output_type": "stream",
       "stream": "stdout",
       "text": [
        "\n",
        "[   0  500 1000 1500 2000 2500 3000 3500 4000 4500 5000]\n",
        "[   0  500 1000 1500 2000 2500 3000 3500 4000 4500 5000]\n",
        "[   0  500 1000 1500 2000 2500 3000 3500 4000 4500 5000]"
       ]
      },
      {
       "output_type": "stream",
       "stream": "stdout",
       "text": [
        "\n",
        "[   0  500 1000 1500 2000 2500 3000 3500 4000 4500 5000]\n",
        "[   0  500 1000 1500 2000 2500 3000 3500 4000 4500 5000]\n",
        "[   0  500 1000 1500 2000 2500 3000 3500 4000 4500 5000]\n",
        "[   0  500 1000 1500 2000 2500 3000 3500 4000 4500 5000]\n",
        "[   0  500 1000 1500 2000 2500 3000 3500 4000 4500 5000]"
       ]
      },
      {
       "output_type": "stream",
       "stream": "stdout",
       "text": [
        "\n",
        "[   0  500 1000 1500 2000 2500 3000 3500 4000 4500 5000]\n",
        "[   0  500 1000 1500 2000 2500 3000 3500 4000 4500 5000]\n",
        "[   0  500 1000 1500 2000 2500 3000 3500 4000 4500 5000]\n",
        "[   0  500 1000 1500 2000 2500 3000 3500 4000 4500 5000]"
       ]
      },
      {
       "output_type": "stream",
       "stream": "stdout",
       "text": [
        "\n",
        "[   0  500 1000 1500 2000 2500 3000 3500 4000 4500 5000]\n",
        "[   0  500 1000 1500 2000 2500 3000 3500 4000 4500 5000]\n",
        "[   0  500 1000 1500 2000 2500 3000 3500 4000 4500 5000]\n",
        "[   0  500 1000 1500 2000 2500 3000 3500 4000 4500 5000]\n",
        "[   0  500 1000 1500 2000 2500 3000 3500 4000 4500 5000]"
       ]
      },
      {
       "output_type": "stream",
       "stream": "stdout",
       "text": [
        "\n",
        "[   0  500 1000 1500 2000 2500 3000 3500 4000 4500 5000]\n",
        "[   0  500 1000 1500 2000 2500 3000 3500 4000 4500 5000]\n",
        "[   0  500 1000 1500 2000 2500 3000 3500 4000 4500 5000]\n",
        "[   0  500 1000 1500 2000 2500 3000 3500 4000 4500 5000]"
       ]
      },
      {
       "output_type": "stream",
       "stream": "stdout",
       "text": [
        "\n",
        "[   0  500 1000 1500 2000 2500 3000 3500 4000 4500 5000]\n",
        "102 8500\n",
        "204 8500\n",
        "408 8500\n",
        "816 8500\n",
        "1632 8500\n",
        "3264 8500\n",
        "6528 8500\n",
        "('r/gsa', 'extr1')\n",
        "r/gsaextr1*.evo\n",
        "[   0  500 1000 1500 2000 2500 3000 3500 4000 4500 5000]"
       ]
      },
      {
       "output_type": "stream",
       "stream": "stdout",
       "text": [
        "\n",
        "[   0  500 1000 1500 2000 2500 3000 3500 4000 4500 5000]\n",
        "[   0  500 1000 1500 2000 2500 3000 3500 4000 4500 5000]\n",
        "[   0  500 1000 1500 2000 2500 3000 3500 4000 4500 5000]\n",
        "[   0  500 1000 1500 2000 2500 3000 3500 4000 4500 5000]\n",
        "[   0  500 1000 1500 2000 2500 3000 3500 4000 4500 5000]"
       ]
      },
      {
       "output_type": "stream",
       "stream": "stdout",
       "text": [
        "\n",
        "[   0  500 1000 1500 2000 2500 3000 3500 4000 4500 5000]\n",
        "[   0  500 1000 1500 2000 2500 3000 3500 4000 4500 5000]\n",
        "[   0  500 1000 1500 2000 2500 3000 3500 4000 4500 5000]\n",
        "[   0  500 1000 1500 2000 2500 3000 3500 4000 4500 5000]\n",
        "[   0  500 1000 1500 2000 2500 3000 3500 4000 4500 5000]"
       ]
      },
      {
       "output_type": "stream",
       "stream": "stdout",
       "text": [
        "\n",
        "[   0  500 1000 1500 2000 2500 3000 3500 4000 4500 5000]\n",
        "[   0  500 1000 1500 2000 2500 3000 3500 4000 4500 5000]\n",
        "[   0  500 1000 1500 2000 2500 3000 3500 4000 4500 5000]\n",
        "[   0  500 1000 1500 2000 2500 3000 3500 4000 4500 5000]\n",
        "[   0  500 1000 1500 2000 2500 3000 3500 4000 4500 5000]"
       ]
      },
      {
       "output_type": "stream",
       "stream": "stdout",
       "text": [
        "\n",
        "[   0  500 1000 1500 2000 2500 3000 3500 4000 4500 5000]\n",
        "[   0  500 1000 1500 2000 2500 3000 3500 4000 4500 5000]\n",
        "[   0  500 1000 1500 2000 2500 3000 3500 4000 4500 5000]\n",
        "[   0  500 1000 1500 2000 2500 3000 3500 4000 4500 5000]"
       ]
      },
      {
       "output_type": "stream",
       "stream": "stdout",
       "text": [
        "\n",
        "[   0  500 1000 1500 2000 2500 3000 3500 4000 4500 5000]\n",
        "[   0  500 1000 1500 2000 2500 3000 3500 4000 4500 5000]\n",
        "[   0  500 1000 1500 2000 2500 3000 3500 4000 4500 5000]\n",
        "[   0  500 1000 1500 2000 2500 3000 3500 4000 4500 5000]"
       ]
      },
      {
       "output_type": "stream",
       "stream": "stdout",
       "text": [
        "\n",
        "[   0  500 1000 1500 2000 2500 3000 3500 4000 4500 5000]\n",
        "[   0  500 1000 1500 2000 2500 3000 3500 4000 4500 5000]\n",
        "[   0  500 1000 1500 2000 2500 3000 3500 4000 4500 5000]\n",
        "[   0  500 1000 1500 2000 2500 3000 3500 4000 4500 5000]\n",
        "[   0  500 1000 1500 2000 2500 3000 3500 4000 4500 5000]"
       ]
      },
      {
       "output_type": "stream",
       "stream": "stdout",
       "text": [
        "\n",
        "[   0  500 1000 1500 2000 2500 3000 3500 4000 4500 5000]\n",
        "[   0  500 1000 1500 2000 2500 3000 3500 4000 4500 5000]\n",
        "[   0  500 1000 1500 2000 2500 3000 3500 4000 4500 5000]\n",
        "[   0  500 1000 1500 2000 2500 3000 3500 4000 4500 5000]\n",
        "[   0  500 1000 1500 2000 2500 3000 3500 4000 4500 5000]"
       ]
      },
      {
       "output_type": "stream",
       "stream": "stdout",
       "text": [
        "\n",
        "102 8500\n",
        "204 8500\n",
        "408 8500\n",
        "816 8500\n",
        "1632 8500\n",
        "3264 8500\n",
        "6528 8500\n"
       ]
      },
      {
       "metadata": {},
       "output_type": "pyout",
       "prompt_number": 93,
       "text": [
        "([<matplotlib.axis.XTick at 0x7f55fe177550>,\n",
        "  <matplotlib.axis.XTick at 0x7f55fe0d9050>,\n",
        "  <matplotlib.axis.XTick at 0x7f55fe09c4d0>,\n",
        "  <matplotlib.axis.XTick at 0x7f55fe0a75d0>,\n",
        "  <matplotlib.axis.XTick at 0x7f55fe0a7d50>],\n",
        " <a list of 5 Text xticklabel objects>)"
       ]
      },
      {
       "metadata": {},
       "output_type": "display_data",
       "png": "[encoded data removed]",
       "text": [
        "<matplotlib.figure.Figure at 0x7f56049c1150>"
       ]
      },
      {
       "metadata": {},
       "output_type": "display_data",
       "png": "[encoded data removed]",
       "text": [
        "<matplotlib.figure.Figure at 0x7f55fe115cd0>"
       ]
      }
     ],
     "prompt_number": 93
    },
    {
     "cell_type": "code",
     "collapsed": false,
     "input": [
      "max_data=[numpy.array(compiled_results[0][0])]+[numpy.array(z[2]) for z in compiled_results]\n",
      "print len(max_data)\n",
      "max_data=np.vstack(max_data).transpose()\n",
      "\n",
      "mean_data=[numpy.array(compiled_results[0][0])]+[numpy.array(z[1]) for z in compiled_results]\n",
      "print len(mean_data)\n",
      "mean_data=np.vstack(mean_data).transpose()\n",
      "\n",
      "cols=[\"generation\"]+[treatment_post[treat[1]] for treat in treatments]\n",
      "df1 = pandas.DataFrame(max_data,columns=cols)\n",
      "df1.to_csv(\"gbiped-max.dat\",sep=\" \",index_label=\"indx\")\n",
      "\n",
      "df2 = pandas.DataFrame(mean_data,columns=cols)\n",
      "df2.to_csv(\"gbiped-mean.dat\",sep=\" \",index_label=\"indx\")\n",
      "\n",
      "\n",
      "#speed = pd.Series([str(t) for t in treatments], name=\"treatment\")\n",
      "#sns.tsplot(numpy.dstack(samps_tot),condition=speed,err_style=\"boot_traces\",ci=99.9999)\n",
      "\n",
      "#legend(bbox_to_anchor=(0., 1.02, 1., .102), loc=3,\n",
      "#       ncol=2, mode=\"expand\", borderaxespad=0.)"
     ],
     "language": "python",
     "metadata": {},
     "outputs": [
      {
       "output_type": "stream",
       "stream": "stdout",
       "text": [
        "6\n",
        "6\n"
       ]
      }
     ],
     "prompt_number": 94
    },
    {
     "cell_type": "code",
     "collapsed": false,
     "input": [
      "k=[]\n",
      "for treat in treatments:\n",
      " k.append(samp_store[treat])\n",
      " label=treatment_post[treat[1]]\n",
      " print label\n",
      " df1 = pandas.DataFrame(samp_store[treat],columns=[label,])\n",
      " df1.to_csv(\"gbiped-box-%s.dat\"%str(treat[1]),sep=\" \",index_label=\"indx\")\n",
      "   \n",
      "\n",
      "sns.boxplot(k)   \n",
      "\n",
      "plt.figure()\n",
      "\n",
      "\n",
      "#sns.boxplot(final_samps,names=[treatment_pre[t[0]]+treatment_post[t[1]] for t in treatments])\n",
      "\n",
      "x=range(len(treatments))\n",
      "plot(x,final_means,\"go\",label=\"median\")\n",
      "plot(x,final_mins,\"ro\",label=\"min\")\n",
      "plot(x,final_maxs,\"bo\",label=\"max\")\n",
      "xticks(range(len(treatments)),[treatment_pre[t[0]]+treatment_post[t[1]] for t in treatments])"
     ],
     "language": "python",
     "metadata": {},
     "outputs": [
      {
       "output_type": "stream",
       "stream": "stdout",
       "text": [
        "Control\n",
        "Extinction 300"
       ]
      },
      {
       "output_type": "stream",
       "stream": "stdout",
       "text": [
        "\n",
        "Extinction 600\n",
        "Extinction 900\n",
        "Extinction Random\n"
       ]
      },
      {
       "metadata": {},
       "output_type": "pyout",
       "prompt_number": 95,
       "text": [
        "([<matplotlib.axis.XTick at 0x7f55fdfc2650>,\n",
        "  <matplotlib.axis.XTick at 0x7f55fe130150>,\n",
        "  <matplotlib.axis.XTick at 0x7f55fdf4b110>,\n",
        "  <matplotlib.axis.XTick at 0x7f55fdf56210>,\n",
        "  <matplotlib.axis.XTick at 0x7f55fdf56990>],\n",
        " <a list of 5 Text xticklabel objects>)"
       ]
      },
      {
       "metadata": {},
       "output_type": "display_data",
       "png": "[encoded data removed]",
       "text": [
        "<matplotlib.figure.Figure at 0x7f55fe5e9510>"
       ]
      },
      {
       "metadata": {},
       "output_type": "display_data",
       "png": "[encoded data removed]",
       "text": [
        "<matplotlib.figure.Figure at 0x7f55feb2ad50>"
       ]
      }
     ],
     "prompt_number": 95
    },
    {
     "cell_type": "heading",
     "level": 1,
     "metadata": {},
     "source": [
      "Stat analyis"
     ]
    },
    {
     "cell_type": "code",
     "collapsed": false,
     "input": [
      "#print store\n",
      "key=3500\n",
      "indx=2\n",
      "import scipy.stats\n",
      "\n",
      "for x in treatments:\n",
      "    for y in treatments:\n",
      "        \n",
      "        xlabel=treatment_pre[x[0]]+treatment_post[x[1]]\n",
      "        ylabel=treatment_pre[y[0]]+treatment_post[y[1]]\n",
      "        xdat=store[x][indx][key]\n",
      "        ydat=store[y][indx][key]\n",
      "        xmean=float(sum(xdat))/len(xdat)\n",
      "        ymean=float(sum(ydat))/len(ydat)\n",
      "        print xlabel,xmean,ylabel,ymean,scipy.stats.ttest_ind(xdat,ydat)[1]"
     ],
     "language": "python",
     "metadata": {},
     "outputs": [
      {
       "output_type": "stream",
       "stream": "stdout",
       "text": [
        "Control 36.9459459459 Control 36.9459459459 "
       ]
      },
      {
       "output_type": "stream",
       "stream": "stdout",
       "text": [
        "1.0\n",
        "Control 36.9459459459 Extinction 300 41.1 5.29898403617e-06\n",
        "Control 36.9459459459 Extinction 600 40.2285714286 4.14094928072e-06\n",
        "Control 36.9459459459 Extinction 900 39.1911764706 0.00103930392957\n",
        "Control 36.9459459459 Extinction Random 39.0882352941 0.00240721435541\n",
        "Extinction 300 41.1 Control 36.9459459459 5.29898403617e-06\n",
        "Extinction 300 41.1 Extinction 300 41.1 1.0\n",
        "Extinction 300 41.1 Extinction 600 40.2285714286 0.370866405724\n",
        "Extinction 300 41.1 Extinction 900 39.1911764706 0.053995406197\n",
        "Extinction 300 41.1 Extinction Random 39.0882352941 0.0469250154682\n",
        "Extinction 600 40.2285714286 Control 36.9459459459 4.14094928072e-06\n",
        "Extinction 600 40.2285714286 Extinction 300 41.1 0.370866405724\n",
        "Extinction 600 40.2285714286 Extinction 600 40.2285714286 1.0\n",
        "Extinction 600 40.2285714286 Extinction 900 39.1911764706 0.193922373648\n",
        "Extinction 600 40.2285714286 Extinction Random 39.0882352941 0.164840289289\n",
        "Extinction 900 39.1911764706 Control 36.9459459459 0.00103930392957\n",
        "Extinction 900 39.1911764706 Extinction 300 41.1 0.053995406197\n",
        "Extinction 900 39.1911764706 Extinction 600 40.2285714286 0.193922373648\n",
        "Extinction 900 39.1911764706 Extinction 900 39.1911764706 1.0\n",
        "Extinction 900 39.1911764706 Extinction Random 39.0882352941 0.899770404521\n",
        "Extinction Random 39.0882352941 Control 36.9459459459 0.00240721435541\n",
        "Extinction Random 39.0882352941 Extinction 300 41.1 0.0469250154682\n",
        "Extinction Random 39.0882352941 Extinction 600 40.2285714286 0.164840289289\n",
        "Extinction Random 39.0882352941 Extinction 900 39.1911764706 0.899770404521\n",
        "Extinction Random 39.0882352941 Extinction Random 39.0882352941 1.0\n"
       ]
      }
     ],
     "prompt_number": 96
    },
    {
     "cell_type": "heading",
     "level": 1,
     "metadata": {},
     "source": [
      "Niche Analysis"
     ]
    },
    {
     "cell_type": "code",
     "collapsed": false,
     "input": [
      "for treat in treatments:\n",
      " #files=glob.glob(\"%sout-%s*.log\"% treat)\n",
      " files=glob.glob(\"%s%s*.log\"% treat)\n",
      " for fn in files:\n",
      "        fn_new=fn + \".new\"\n",
      "        a=open(fn).read()\n",
      "        a=a.replace(\"(\",\"\").replace(\")\",\"\")\n",
      "        b=open(fn_new,\"w\").write(a)"
     ],
     "language": "python",
     "metadata": {},
     "outputs": [],
     "prompt_number": 97
    },
    {
     "cell_type": "code",
     "collapsed": false,
     "input": [
      "rng=5000\n",
      "#data=data[data[\"eval\"]%50000==0]\n",
      "#plot(data[\"eval\"],data[\"niches\"])\n",
      "import random\n",
      "def compile_treatment_niche(treat):\n",
      "    #files=glob.glob(\"%sout-%s*.log.new\"% treat)\n",
      "    files=glob.glob(\"%s%s*.log.new\"% treat)\n",
      "    #files=random.sample(files,1)\n",
      "    datas=[]\n",
      "    for fn in files:\n",
      "        dat=read_csv(fn,header=None,sep=',',names=[\"eval\",\"niches\",\"entropy\",\"complexity\",\"fit\",\"gen\",\"succ\"])\n",
      "        #print dat.shape[0]\n",
      "        if(dat.shape[0]<rng):\n",
      "            continue\n",
      "        datas.append(dat[:rng])\n",
      "    return datas,files\n",
      "\n",
      "\"\"\"\n",
      "    for x in datas[0][\"eval\"].unique():   \n",
      "     max_dict[x]=sum(max_dict[x])/float(len(max_dict[x]))\n",
      "\n",
      "    x=max_dict.keys()\n",
      "    x.sort()\n",
      "    y=[max_dict[k] for k in x]\n",
      "    return x,y\n",
      "\"\"\"\n",
      "\n"
     ],
     "language": "python",
     "metadata": {},
     "outputs": [
      {
       "metadata": {},
       "output_type": "pyout",
       "prompt_number": 98,
       "text": [
        "'\\n    for x in datas[0][\"eval\"].unique():   \\n     max_dict[x]=sum(max_dict[x])/float(len(max_dict[x]))\\n\\n    x=max_dict.keys()\\n    x.sort()\\n    y=[max_dict[k] for k in x]\\n    return x,y\\n'"
       ]
      }
     ],
     "prompt_number": 98
    },
    {
     "cell_type": "code",
     "collapsed": false,
     "input": [
      "data=[]\n",
      "\n",
      "for treat in treatments:\n",
      "#for treat in [treatments[4]]:\n",
      "    print treat\n",
      "    t=treat\n",
      "    label=treatment_pre[t[0]]+treatment_post[t[1]]\n",
      "    d,files=compile_treatment_niche(treat)\n",
      "    x=d[0][\"gen\"][:rng]\n",
      "    accum=d[0]\n",
      "    key=\"niches\"\n",
      "    for k in range(1,len(d)):\n",
      "      #print len(d[k][key]),files[k]\n",
      "      accum[key][:rng]+=d[k][key][:rng]\n",
      "    accum[key]/=len(d)\n",
      "    #print accum[key]\n",
      "    plot(x,accum[key][:rng],label=label)\n",
      "    data.append((x,accum[key],label))\n",
      "title(\"Niches occupied\")\n",
      "#legend()\n",
      "legend(loc=3,\n",
      "       ncol=2, mode=\"expand\", borderaxespad=0.)"
     ],
     "language": "python",
     "metadata": {},
     "outputs": [
      {
       "output_type": "stream",
       "stream": "stdout",
       "text": [
        "('r/gsa', 'cnti1')\n",
        "('r/gsa', 'exti1')"
       ]
      },
      {
       "output_type": "stream",
       "stream": "stdout",
       "text": [
        "\n",
        "('r/gsa', 'exti2')"
       ]
      },
      {
       "output_type": "stream",
       "stream": "stdout",
       "text": [
        "\n",
        "('r/gsa', 'exti3')"
       ]
      },
      {
       "output_type": "stream",
       "stream": "stdout",
       "text": [
        "\n",
        "('r/gsa', 'extr1')"
       ]
      },
      {
       "output_type": "stream",
       "stream": "stdout",
       "text": [
        "\n"
       ]
      },
      {
       "metadata": {},
       "output_type": "pyout",
       "prompt_number": 99,
       "text": [
        "<matplotlib.legend.Legend at 0x7f55fe6e0910>"
       ]
      },
      {
       "metadata": {},
       "output_type": "display_data",
       "png": "[encoded data removed]",
       "text": [
        "<matplotlib.figure.Figure at 0x7f55fe2f5950>"
       ]
      }
     ],
     "prompt_number": 99
    },
    {
     "cell_type": "code",
     "collapsed": false,
     "input": [
      "data=[numpy.array(data[0][0])]+[numpy.array(z[1]) for z in data]\n",
      "print len(data)\n",
      "data=np.vstack(data).transpose()\n",
      "\n",
      "\n",
      "cols=[\"generation\"]+[treatment_post[treat[1]] for treat in treatments]\n",
      "df1 = pandas.DataFrame(data,columns=cols)\n",
      "df1.to_csv(\"gbiped-niches.dat\",sep=\" \",index_label=\"indx\")"
     ],
     "language": "python",
     "metadata": {},
     "outputs": [
      {
       "output_type": "stream",
       "stream": "stdout",
       "text": [
        "6\n"
       ]
      }
     ],
     "prompt_number": 100
    },
    {
     "cell_type": "code",
     "collapsed": false,
     "input": [
      "fits={}\n",
      "for treat in treatments:\n",
      "    print treat\n",
      "    d,files=compile_treatment_niche(treat)\n",
      "    x=d[0][\"gen\"]\n",
      "    key=\"fit\"\n",
      "    y=np.vstack([d[k][key] for k in range(len(d))]).mean(0)\n",
      "    fits[treat]=np.vstack([d[k][key] for k in range(len(d))])\n",
      "    t=treat\n",
      "    label=treatment_pre[t[0]]+treatment_post[t[1]]\n",
      "    plot(x[1:],y[1:],label=label)\n",
      "    \n",
      "\n",
      "title(\"avg \" + key)\n",
      "legend(loc=3,\n",
      "       ncol=2, mode=\"expand\", borderaxespad=0.)"
     ],
     "language": "python",
     "metadata": {},
     "outputs": [
      {
       "output_type": "stream",
       "stream": "stdout",
       "text": [
        "('r/gsa', 'cnti1')\n",
        "('r/gsa', 'exti1')"
       ]
      },
      {
       "output_type": "stream",
       "stream": "stdout",
       "text": [
        "\n",
        "('r/gsa', 'exti2')"
       ]
      },
      {
       "output_type": "stream",
       "stream": "stdout",
       "text": [
        "\n",
        "('r/gsa', 'exti3')"
       ]
      },
      {
       "output_type": "stream",
       "stream": "stdout",
       "text": [
        "\n",
        "('r/gsa', 'extr1')"
       ]
      },
      {
       "output_type": "stream",
       "stream": "stdout",
       "text": [
        "\n"
       ]
      },
      {
       "metadata": {},
       "output_type": "pyout",
       "prompt_number": 105,
       "text": [
        "<matplotlib.legend.Legend at 0x7f55fe0c07d0>"
       ]
      },
      {
       "metadata": {},
       "output_type": "display_data",
       "png": "[encoded data removed]",
       "text": [
        "<matplotlib.figure.Figure at 0x7f55fddf2e10>"
       ]
      }
     ],
     "prompt_number": 105
    },
    {
     "cell_type": "code",
     "collapsed": false,
     "input": [
      "for t in treatments:\n",
      "  d1=numpy.sqrt(fits[t][:,-1])\n",
      "  label1=treatment_pre[t[0]]+treatment_post[t[1]]\n",
      "  \n",
      "  for t2 in treatments:\n",
      "   label2=treatment_pre[t2[0]]+treatment_post[t2[1]]\n",
      "   d2=numpy.sqrt(fits[t2][:,-1])\n",
      "   print label1,label2,d1.mean(),d2.mean(),scipy.stats.ttest_ind(d1,d2)[1]\n",
      "\n",
      "print\n",
      "\n",
      "for t in treatments:\n",
      "  d1=numpy.sqrt(fits[t][:,-1])\n",
      "  label1=treatment_pre[t[0]]+treatment_post[t[1]]\n",
      "  print label1,d1.mean()\n"
     ],
     "language": "python",
     "metadata": {},
     "outputs": [
      {
       "output_type": "stream",
       "stream": "stdout",
       "text": [
        "Control Control 3.70795835184 3.70795835184 1.0\n",
        "Control Extinction 300 3.70795835184 3.95450221556 0.487326642213\n",
        "Control Extinction 600 3.70795835184 4.64082646237 0.0419482288328\n",
        "Control Extinction 900 3.70795835184 4.18539818363 0.239467992234\n",
        "Control Extinction Random 3.70795835184 4.06823435339 0.378231775697\n",
        "Extinction 300 Control 3.95450221556 3.70795835184 0.487326642213\n",
        "Extinction 300 Extinction 300 3.95450221556 3.95450221556 1.0\n",
        "Extinction 300 Extinction 600 3.95450221556 4.64082646237 0.18773551302\n",
        "Extinction 300 Extinction 900 3.95450221556 4.18539818363 0.620739801024\n",
        "Extinction 300 Extinction Random 3.95450221556 4.06823435339 0.808973416869\n",
        "Extinction 600 Control 4.64082646237 3.70795835184 0.0419482288328\n",
        "Extinction 600 Extinction 300 4.64082646237 3.95450221556 0.18773551302\n",
        "Extinction 600 Extinction 600 4.64082646237 4.64082646237 1.0\n",
        "Extinction 600 Extinction 900 4.64082646237 4.18539818363 0.400012508487\n",
        "Extinction 600 Extinction Random 4.64082646237 4.06823435339 0.293466662085\n",
        "Extinction 900 Control 4.18539818363 3.70795835184 0.239467992234\n",
        "Extinction 900 Extinction 300 4.18539818363 3.95450221556 0.620739801024\n",
        "Extinction 900 Extinction 600 4.18539818363 4.64082646237 0.400012508487\n",
        "Extinction 900 Extinction 900 4.18539818363 4.18539818363 1.0\n",
        "Extinction 900 Extinction Random 4.18539818363 4.06823435339 0.815499136004\n",
        "Extinction Random Control 4.06823435339 3.70795835184 0.378231775697\n",
        "Extinction Random Extinction 300 4.06823435339 3.95450221556 0.808973416869\n",
        "Extinction Random Extinction 600 4.06823435339 4.64082646237 0.293466662085\n",
        "Extinction Random Extinction 900 4.06823435339 4.18539818363 0.815499136004\n",
        "Extinction Random Extinction Random 4.06823435339 4.06823435339 1.0\n",
        "\n",
        "Control 3.70795835184\n",
        "Extinction 300 3.95450221556\n",
        "Extinction 600 4.64082646237\n",
        "Extinction 900 4.18539818363\n",
        "Extinction Random 4.06823435339\n"
       ]
      }
     ],
     "prompt_number": 107
    },
    {
     "cell_type": "code",
     "collapsed": false,
     "input": [
      "\n",
      "\n",
      "for treat in treatments:\n",
      "    d,files=compile_treatment_niche(treat)\n",
      "    x=d[0][\"gen\"]\n",
      "    key=\"complexity\"\n",
      "    y=np.vstack([d[k][key] for k in range(len(d))]).mean(0)\n",
      "    t=treat\n",
      "    label=treatment_pre[t[0]]+treatment_post[t[1]]\n",
      "    plot(x[:],y[:],label=label)\n",
      "\n",
      "title(\"avg \" + key)\n",
      "legend(loc=3,\n",
      "       ncol=2, mode=\"expand\", borderaxespad=0.)"
     ],
     "language": "python",
     "metadata": {},
     "outputs": [
      {
       "metadata": {},
       "output_type": "pyout",
       "prompt_number": 26,
       "text": [
        "<matplotlib.legend.Legend at 0x7f2c5c097fd0>"
       ]
      },
      {
       "metadata": {},
       "output_type": "display_data",
       "png": "[encoded data removed]",
       "text": [
        "<matplotlib.figure.Figure at 0x7f2c5be68c90>"
       ]
      }
     ],
     "prompt_number": 26
    },
    {
     "cell_type": "code",
     "collapsed": false,
     "input": [
      "labels=[]\n",
      "values=[]\n",
      "\n",
      "for treat in treatments:\n",
      "    #print treat\n",
      "    t=treat\n",
      "    globstr=treat[0]+\"*\"+treat[1]+\"*solution.dat\"\n",
      "    label=treatment_pre[t[0]]+treatment_post[t[1]]\n",
      "    value=len(glob.glob(globstr))/20.0\n",
      "    print label,value\n",
      "    labels.append(label)\n",
      "    values.append(value)\n",
      "\n",
      "bar(range(len(treatments)),values)\n",
      "xticks([k+0.4 for k in range(len(treatments))],labels)\n",
      "ylim(0,1)\n",
      "title(\"Solution Probability\")\n",
      "#xticklabels(values)"
     ],
     "language": "python",
     "metadata": {},
     "outputs": [
      {
       "output_type": "stream",
       "stream": "stdout",
       "text": [
        "Control 0.45\n",
        "ExtinctionMost 0.55\n",
        "ExtinctionMore 0.4\n",
        "ExtinctionSome 0.45\n"
       ]
      },
      {
       "metadata": {},
       "output_type": "pyout",
       "prompt_number": 52,
       "text": [
        "<matplotlib.text.Text at 0x7f56c76bdd10>"
       ]
      },
      {
       "metadata": {},
       "output_type": "display_data",
       "png": "[encoded data removed]",
       "text": [
        "<matplotlib.figure.Figure at 0x7f56c780fb50>"
       ]
      }
     ],
     "prompt_number": 52
    },
    {
     "cell_type": "code",
     "collapsed": false,
     "input": [
      "def get_traits(fn):\n",
      "    lines=open(fn).read().split(\"\\n\")[:-1]\n",
      "    traits=[k for k in lines if k.find(\"trait\")!=-1]\n",
      "    return [[float(z) for z in t.split()[1:5]] for t in traits]\n",
      "\n",
      "def get_links(fn):\n",
      "    lines=open(fn).read().split(\"\\n\")[:-1]\n",
      "    traits=[k for k in lines if k.find(\"gene\")!=-1]\n",
      "    return [[float(z) for z in t.split()[1:5]] for t in traits]\n",
      "\n",
      "def avg_over(files,func,indx):\n",
      "    return sum([func(k)[indx] for k in files])/len(files)\n",
      "\n",
      "from collections import Counter\n",
      "def avg_traits(fn):\n",
      "    t=get_traits(fn)\n",
      "    links=get_links(fn)\n",
      "    \n",
      "    total=float(len(links))\n",
      "    tcount=Counter([x[0] for x in links])\n",
      "    \n",
      "    #print tcount\n",
      "    avg_mod = sum([t[x][1]*tcount[x+1] for x in range(3)])/total #len(t)\n",
      "    avg_skip = sum([t[x][2]*tcount[x+1] for x in range(3)])/total #len(t)\n",
      "    avg_dummy = min(tcount[1],tcount[2],tcount[3])/total\n",
      "    #avg_dummy = sum([t[x][3]*tcount[x+1] for x in range(3)])/total #len(t)\n",
      "    \n",
      "    \"\"\"\n",
      "    avg_mod = sum([z[1] for z in t])/len(t)\n",
      "    avg_skip = sum([z[2] for z in t])/len(t)\n",
      "    avg_dummy = sum([z[3] for z in t])/len(t)\n",
      "    \"\"\"\n",
      "    \n",
      "    return (avg_mod,avg_skip,avg_dummy)\n",
      "\n",
      "for z in range(3):\n",
      " labels=[]\n",
      " values=[]\n",
      " for treat in treatments:\n",
      "    t=treat\n",
      "    label=treatment_pre[t[0]]+treatment_post[t[1]]\n",
      "    \n",
      "    gcmd=treat[0]+\"*\"+treat[1]+\"*bestevo.dat\"\n",
      "    files=glob.glob(gcmd)\n",
      "    \n",
      "    value=avg_over(files,avg_traits,z)\n",
      "    print label,value\n",
      "    labels.append(label)\n",
      "    values.append(value)\n",
      "    \n",
      "    #get_traits(files[0])\n",
      "    #get_links(files[1])\n",
      "    #print avg_traits(files[4])\n",
      " bar(range(len(treatments)),values)\n",
      " xticks([k+0.4 for k in range(len(treatments))],labels)\n",
      " ylim(0,1)\n",
      " title(\"%d Average\" % z)\n",
      " plt.figure()"
     ],
     "language": "python",
     "metadata": {},
     "outputs": [
      {
       "output_type": "stream",
       "stream": "stdout",
       "text": [
        "Control 0.206585298139\n",
        "ExtinctionMost 0.159105712469\n",
        "ExtinctionMore 0.185365957583\n",
        "ExtinctionSome 0.225021031176\n",
        "Control"
       ]
      },
      {
       "output_type": "stream",
       "stream": "stdout",
       "text": [
        " 0.144503819477\n",
        "ExtinctionMost 0.445095330087\n",
        "ExtinctionMore 0.294547737171\n",
        "ExtinctionSome 0.225082563777\n",
        "Control"
       ]
      },
      {
       "output_type": "stream",
       "stream": "stdout",
       "text": [
        " 0.0345029620657\n",
        "ExtinctionMost 0.0861044976479\n",
        "ExtinctionMore 0.0820423793332\n",
        "ExtinctionSome 0.0622368186397\n"
       ]
      },
      {
       "metadata": {},
       "output_type": "display_data",
       "png": "[encoded data removed]",
       "text": [
        "<matplotlib.figure.Figure at 0x7f56c7f42410>"
       ]
      },
      {
       "metadata": {},
       "output_type": "display_data",
       "png": "[encoded data removed]",
       "text": [
        "<matplotlib.figure.Figure at 0x7f56c7561d10>"
       ]
      },
      {
       "metadata": {},
       "output_type": "display_data",
       "png": "[encoded data removed]",
       "text": [
        "<matplotlib.figure.Figure at 0x7f56c7561c10>"
       ]
      },
      {
       "metadata": {},
       "output_type": "display_data",
       "text": [
        "<matplotlib.figure.Figure at 0x7f56c74e6890>"
       ]
      }
     ],
     "prompt_number": 53
    },
    {
     "cell_type": "code",
     "collapsed": false,
     "input": [],
     "language": "python",
     "metadata": {},
     "outputs": [],
     "prompt_number": 13
    },
    {
     "cell_type": "code",
     "collapsed": false,
     "input": [],
     "language": "python",
     "metadata": {},
     "outputs": [],
     "prompt_number": 13
    }
   ],
   "metadata": {}
  }
 ]
}